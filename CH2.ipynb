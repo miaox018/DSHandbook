{
 "cells": [
  {
   "cell_type": "markdown",
   "metadata": {},
   "source": [
    "# Understand data types"
   ]
  },
  {
   "cell_type": "markdown",
   "metadata": {},
   "source": [
    "Python variables are more than just their value; they also contain extra information about the type of the value"
   ]
  },
  {
   "cell_type": "markdown",
   "metadata": {},
   "source": [
    "## A python integer is more than just an integer\n",
    "A signle integer in python contains:\n",
    "1. ob_refcnt: a reference count that help python silently handle memory allcoation and deallocation\n",
    "2. ob_type: encodes the type of the variable\n",
    "3. ob_size: specifies the size of the data member\n",
    "4. ob_digit: contains the actual integer value the variable shoudl represent\n",
    "\n",
    "\n",
    "A python integer is a pointer to a position in memory containing all python object information, including the bytes that contain the integer value"
   ]
  },
  {
   "cell_type": "markdown",
   "metadata": {},
   "source": [
    "## A python list is more than just a list"
   ]
  },
  {
   "cell_type": "code",
   "execution_count": 1,
   "metadata": {},
   "outputs": [
    {
     "data": {
      "text/plain": [
       "[bool, str, int, float]"
      ]
     },
     "execution_count": 1,
     "metadata": {},
     "output_type": "execute_result"
    }
   ],
   "source": [
    "# regular list \n",
    "L = list(range(10))\n",
    "type(L[0])\n",
    "\n",
    "L2 = [str(c) for c in L]\n",
    "type(L2[0])\n",
    "\n",
    "# Because of python's dynamic typing, we can create heterogeneous list\n",
    "L3 = [True, '2', 3, 4.0]\n",
    "[type(item) for item in L3]"
   ]
  },
  {
   "cell_type": "markdown",
   "metadata": {},
   "source": [
    "This flexibility comes at a cost: each item in the list must contain its own type info, reference count, and other info\n",
    "If all variables are of the same type, much of this information is redundant: it can be much more efficient to store data in a fixed type array(Numpy Array)"
   ]
  },
  {
   "cell_type": "code",
   "execution_count": 4,
   "metadata": {},
   "outputs": [
    {
     "data": {
      "text/plain": [
       "array([1., 4., 2., 5., 3.], dtype=float32)"
      ]
     },
     "execution_count": 4,
     "metadata": {},
     "output_type": "execute_result"
    }
   ],
   "source": [
    "import numpy as np\n",
    "np.array([1, 4, 2, 5, 3])\n",
    "np.array([1, 4, 2, 5, 3.14])\n",
    "np.array([1, 4, 2, 5, 3], dtype='float32')"
   ]
  },
  {
   "cell_type": "code",
   "execution_count": 5,
   "metadata": {},
   "outputs": [
    {
     "data": {
      "text/plain": [
       "array([[2, 3, 4],\n",
       "       [4, 5, 6],\n",
       "       [6, 7, 8]])"
      ]
     },
     "execution_count": 5,
     "metadata": {},
     "output_type": "execute_result"
    }
   ],
   "source": [
    "# Numpy array can be multi-dimensional\n",
    "np.array([range(i, i+3) for i in [2,4,6]])"
   ]
  },
  {
   "cell_type": "code",
   "execution_count": null,
   "metadata": {},
   "outputs": [],
   "source": []
  }
 ],
 "metadata": {
  "kernelspec": {
   "display_name": "Python 3",
   "language": "python",
   "name": "python3"
  },
  "language_info": {
   "codemirror_mode": {
    "name": "ipython",
    "version": 3
   },
   "file_extension": ".py",
   "mimetype": "text/x-python",
   "name": "python",
   "nbconvert_exporter": "python",
   "pygments_lexer": "ipython3",
   "version": "3.7.4"
  }
 },
 "nbformat": 4,
 "nbformat_minor": 2
}
